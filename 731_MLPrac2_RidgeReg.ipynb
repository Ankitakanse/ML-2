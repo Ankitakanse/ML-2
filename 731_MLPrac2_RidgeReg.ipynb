{
  "nbformat": 4,
  "nbformat_minor": 0,
  "metadata": {
    "colab": {
      "provenance": [],
      "authorship_tag": "ABX9TyNbNLbXat6FLDAhZw9M8Alq",
      "include_colab_link": true
    },
    "kernelspec": {
      "name": "python3",
      "display_name": "Python 3"
    },
    "language_info": {
      "name": "python"
    }
  },
  "cells": [
    {
      "cell_type": "markdown",
      "metadata": {
        "id": "view-in-github",
        "colab_type": "text"
      },
      "source": [
        "<a href=\"https://colab.research.google.com/github/Ankitakanse/ML-2/blob/main/731_MLPrac2_RidgeReg.ipynb\" target=\"_parent\"><img src=\"https://colab.research.google.com/assets/colab-badge.svg\" alt=\"Open In Colab\"/></a>"
      ]
    },
    {
      "cell_type": "markdown",
      "source": [
        "**Aim**= Demonstrate how coefficient affected by incresing the values of the lambda (alpha)."
      ],
      "metadata": {
        "id": "1s7NJm9QyuZB"
      }
    },
    {
      "cell_type": "code",
      "source": [
        "# imports\n",
        "import numpy as np\n",
        "import pandas as pd\n",
        "from google.colab import drive\n",
        "from sklearn.datasets import make_regression, load_diabetes\n",
        "from sklearn.linear_model import LinearRegression, Ridge\n",
        "from sklearn.model_selection import train_test_split\n",
        "from sklearn.metrics import mean_squared_error, r2_score\n",
        "import matplotlib.pyplot as plt\n",
        "\n",
        "# drive.mount('/content/drive')"
      ],
      "metadata": {
        "id": "RofxWYk0rWWC"
      },
      "execution_count": 11,
      "outputs": []
    },
    {
      "cell_type": "code",
      "source": [
        "data = load_diabetes()\n",
        "df = pd.DataFrame(data.data, columns = data.feature_names)\n",
        "df[\"Target\"] = data.target\n",
        "df.head()\n"
      ],
      "metadata": {
        "colab": {
          "base_uri": "https://localhost:8080/",
          "height": 206
        },
        "id": "dYqNQRF2rWZI",
        "outputId": "93365b86-9f3d-4db7-beb9-ccfdd7c42eb4"
      },
      "execution_count": 12,
      "outputs": [
        {
          "output_type": "execute_result",
          "data": {
            "text/plain": [
              "        age       sex       bmi        bp        s1        s2        s3  \\\n",
              "0  0.038076  0.050680  0.061696  0.021872 -0.044223 -0.034821 -0.043401   \n",
              "1 -0.001882 -0.044642 -0.051474 -0.026328 -0.008449 -0.019163  0.074412   \n",
              "2  0.085299  0.050680  0.044451 -0.005670 -0.045599 -0.034194 -0.032356   \n",
              "3 -0.089063 -0.044642 -0.011595 -0.036656  0.012191  0.024991 -0.036038   \n",
              "4  0.005383 -0.044642 -0.036385  0.021872  0.003935  0.015596  0.008142   \n",
              "\n",
              "         s4        s5        s6  Target  \n",
              "0 -0.002592  0.019907 -0.017646   151.0  \n",
              "1 -0.039493 -0.068332 -0.092204    75.0  \n",
              "2 -0.002592  0.002861 -0.025930   141.0  \n",
              "3  0.034309  0.022688 -0.009362   206.0  \n",
              "4 -0.002592 -0.031988 -0.046641   135.0  "
            ],
            "text/html": [
              "\n",
              "  <div id=\"df-73a95234-97ae-4b75-9dac-562139a36141\">\n",
              "    <div class=\"colab-df-container\">\n",
              "      <div>\n",
              "<style scoped>\n",
              "    .dataframe tbody tr th:only-of-type {\n",
              "        vertical-align: middle;\n",
              "    }\n",
              "\n",
              "    .dataframe tbody tr th {\n",
              "        vertical-align: top;\n",
              "    }\n",
              "\n",
              "    .dataframe thead th {\n",
              "        text-align: right;\n",
              "    }\n",
              "</style>\n",
              "<table border=\"1\" class=\"dataframe\">\n",
              "  <thead>\n",
              "    <tr style=\"text-align: right;\">\n",
              "      <th></th>\n",
              "      <th>age</th>\n",
              "      <th>sex</th>\n",
              "      <th>bmi</th>\n",
              "      <th>bp</th>\n",
              "      <th>s1</th>\n",
              "      <th>s2</th>\n",
              "      <th>s3</th>\n",
              "      <th>s4</th>\n",
              "      <th>s5</th>\n",
              "      <th>s6</th>\n",
              "      <th>Target</th>\n",
              "    </tr>\n",
              "  </thead>\n",
              "  <tbody>\n",
              "    <tr>\n",
              "      <th>0</th>\n",
              "      <td>0.038076</td>\n",
              "      <td>0.050680</td>\n",
              "      <td>0.061696</td>\n",
              "      <td>0.021872</td>\n",
              "      <td>-0.044223</td>\n",
              "      <td>-0.034821</td>\n",
              "      <td>-0.043401</td>\n",
              "      <td>-0.002592</td>\n",
              "      <td>0.019907</td>\n",
              "      <td>-0.017646</td>\n",
              "      <td>151.0</td>\n",
              "    </tr>\n",
              "    <tr>\n",
              "      <th>1</th>\n",
              "      <td>-0.001882</td>\n",
              "      <td>-0.044642</td>\n",
              "      <td>-0.051474</td>\n",
              "      <td>-0.026328</td>\n",
              "      <td>-0.008449</td>\n",
              "      <td>-0.019163</td>\n",
              "      <td>0.074412</td>\n",
              "      <td>-0.039493</td>\n",
              "      <td>-0.068332</td>\n",
              "      <td>-0.092204</td>\n",
              "      <td>75.0</td>\n",
              "    </tr>\n",
              "    <tr>\n",
              "      <th>2</th>\n",
              "      <td>0.085299</td>\n",
              "      <td>0.050680</td>\n",
              "      <td>0.044451</td>\n",
              "      <td>-0.005670</td>\n",
              "      <td>-0.045599</td>\n",
              "      <td>-0.034194</td>\n",
              "      <td>-0.032356</td>\n",
              "      <td>-0.002592</td>\n",
              "      <td>0.002861</td>\n",
              "      <td>-0.025930</td>\n",
              "      <td>141.0</td>\n",
              "    </tr>\n",
              "    <tr>\n",
              "      <th>3</th>\n",
              "      <td>-0.089063</td>\n",
              "      <td>-0.044642</td>\n",
              "      <td>-0.011595</td>\n",
              "      <td>-0.036656</td>\n",
              "      <td>0.012191</td>\n",
              "      <td>0.024991</td>\n",
              "      <td>-0.036038</td>\n",
              "      <td>0.034309</td>\n",
              "      <td>0.022688</td>\n",
              "      <td>-0.009362</td>\n",
              "      <td>206.0</td>\n",
              "    </tr>\n",
              "    <tr>\n",
              "      <th>4</th>\n",
              "      <td>0.005383</td>\n",
              "      <td>-0.044642</td>\n",
              "      <td>-0.036385</td>\n",
              "      <td>0.021872</td>\n",
              "      <td>0.003935</td>\n",
              "      <td>0.015596</td>\n",
              "      <td>0.008142</td>\n",
              "      <td>-0.002592</td>\n",
              "      <td>-0.031988</td>\n",
              "      <td>-0.046641</td>\n",
              "      <td>135.0</td>\n",
              "    </tr>\n",
              "  </tbody>\n",
              "</table>\n",
              "</div>\n",
              "      <button class=\"colab-df-convert\" onclick=\"convertToInteractive('df-73a95234-97ae-4b75-9dac-562139a36141')\"\n",
              "              title=\"Convert this dataframe to an interactive table.\"\n",
              "              style=\"display:none;\">\n",
              "        \n",
              "  <svg xmlns=\"http://www.w3.org/2000/svg\" height=\"24px\"viewBox=\"0 0 24 24\"\n",
              "       width=\"24px\">\n",
              "    <path d=\"M0 0h24v24H0V0z\" fill=\"none\"/>\n",
              "    <path d=\"M18.56 5.44l.94 2.06.94-2.06 2.06-.94-2.06-.94-.94-2.06-.94 2.06-2.06.94zm-11 1L8.5 8.5l.94-2.06 2.06-.94-2.06-.94L8.5 2.5l-.94 2.06-2.06.94zm10 10l.94 2.06.94-2.06 2.06-.94-2.06-.94-.94-2.06-.94 2.06-2.06.94z\"/><path d=\"M17.41 7.96l-1.37-1.37c-.4-.4-.92-.59-1.43-.59-.52 0-1.04.2-1.43.59L10.3 9.45l-7.72 7.72c-.78.78-.78 2.05 0 2.83L4 21.41c.39.39.9.59 1.41.59.51 0 1.02-.2 1.41-.59l7.78-7.78 2.81-2.81c.8-.78.8-2.07 0-2.86zM5.41 20L4 18.59l7.72-7.72 1.47 1.35L5.41 20z\"/>\n",
              "  </svg>\n",
              "      </button>\n",
              "      \n",
              "  <style>\n",
              "    .colab-df-container {\n",
              "      display:flex;\n",
              "      flex-wrap:wrap;\n",
              "      gap: 12px;\n",
              "    }\n",
              "\n",
              "    .colab-df-convert {\n",
              "      background-color: #E8F0FE;\n",
              "      border: none;\n",
              "      border-radius: 50%;\n",
              "      cursor: pointer;\n",
              "      display: none;\n",
              "      fill: #1967D2;\n",
              "      height: 32px;\n",
              "      padding: 0 0 0 0;\n",
              "      width: 32px;\n",
              "    }\n",
              "\n",
              "    .colab-df-convert:hover {\n",
              "      background-color: #E2EBFA;\n",
              "      box-shadow: 0px 1px 2px rgba(60, 64, 67, 0.3), 0px 1px 3px 1px rgba(60, 64, 67, 0.15);\n",
              "      fill: #174EA6;\n",
              "    }\n",
              "\n",
              "    [theme=dark] .colab-df-convert {\n",
              "      background-color: #3B4455;\n",
              "      fill: #D2E3FC;\n",
              "    }\n",
              "\n",
              "    [theme=dark] .colab-df-convert:hover {\n",
              "      background-color: #434B5C;\n",
              "      box-shadow: 0px 1px 3px 1px rgba(0, 0, 0, 0.15);\n",
              "      filter: drop-shadow(0px 1px 2px rgba(0, 0, 0, 0.3));\n",
              "      fill: #FFFFFF;\n",
              "    }\n",
              "  </style>\n",
              "\n",
              "      <script>\n",
              "        const buttonEl =\n",
              "          document.querySelector('#df-73a95234-97ae-4b75-9dac-562139a36141 button.colab-df-convert');\n",
              "        buttonEl.style.display =\n",
              "          google.colab.kernel.accessAllowed ? 'block' : 'none';\n",
              "\n",
              "        async function convertToInteractive(key) {\n",
              "          const element = document.querySelector('#df-73a95234-97ae-4b75-9dac-562139a36141');\n",
              "          const dataTable =\n",
              "            await google.colab.kernel.invokeFunction('convertToInteractive',\n",
              "                                                     [key], {});\n",
              "          if (!dataTable) return;\n",
              "\n",
              "          const docLinkHtml = 'Like what you see? Visit the ' +\n",
              "            '<a target=\"_blank\" href=https://colab.research.google.com/notebooks/data_table.ipynb>data table notebook</a>'\n",
              "            + ' to learn more about interactive tables.';\n",
              "          element.innerHTML = '';\n",
              "          dataTable['output_type'] = 'display_data';\n",
              "          await google.colab.output.renderOutput(dataTable, element);\n",
              "          const docLink = document.createElement('div');\n",
              "          docLink.innerHTML = docLinkHtml;\n",
              "          element.appendChild(docLink);\n",
              "        }\n",
              "      </script>\n",
              "    </div>\n",
              "  </div>\n",
              "  "
            ]
          },
          "metadata": {},
          "execution_count": 12
        }
      ]
    },
    {
      "cell_type": "code",
      "source": [
        "df.shape"
      ],
      "metadata": {
        "colab": {
          "base_uri": "https://localhost:8080/",
          "height": 0
        },
        "id": "be6YOjBOrBLQ",
        "outputId": "6bf904f1-9995-405a-9f97-d013a6da42a8"
      },
      "execution_count": 13,
      "outputs": [
        {
          "output_type": "execute_result",
          "data": {
            "text/plain": [
              "(442, 11)"
            ]
          },
          "metadata": {},
          "execution_count": 13
        }
      ]
    },
    {
      "cell_type": "code",
      "source": [
        "x_train , x_test, y_train, y_test = train_test_split(data.data, data.target, test_size=0.2, random_state=2)\n",
        "\n"
      ],
      "metadata": {
        "id": "i0L_bJz7u4Ny"
      },
      "execution_count": 14,
      "outputs": []
    },
    {
      "cell_type": "code",
      "source": [
        "x_train"
      ],
      "metadata": {
        "colab": {
          "base_uri": "https://localhost:8080/",
          "height": 0
        },
        "id": "qV3wITzzr8OY",
        "outputId": "3148e924-1b8d-4cbe-a741-492eac113bd2"
      },
      "execution_count": 15,
      "outputs": [
        {
          "output_type": "execute_result",
          "data": {
            "text/plain": [
              "array([[-0.00188202, -0.04464164, -0.06979687, ..., -0.03949338,\n",
              "        -0.06291688,  0.04034337],\n",
              "       [-0.00914709, -0.04464164,  0.01103904, ..., -0.03949338,\n",
              "         0.01703607, -0.0052198 ],\n",
              "       [ 0.02354575,  0.05068012, -0.02021751, ..., -0.03949338,\n",
              "        -0.09643495, -0.01764613],\n",
              "       ...,\n",
              "       [ 0.06350368,  0.05068012, -0.00405033, ..., -0.00259226,\n",
              "         0.08449153, -0.01764613],\n",
              "       [-0.05273755,  0.05068012, -0.01806189, ...,  0.1081111 ,\n",
              "         0.03606033, -0.04249877],\n",
              "       [ 0.00175052,  0.05068012,  0.05954058, ...,  0.1081111 ,\n",
              "         0.06898589,  0.12732762]])"
            ]
          },
          "metadata": {},
          "execution_count": 15
        }
      ]
    },
    {
      "cell_type": "code",
      "source": [
        "len(x_train)"
      ],
      "metadata": {
        "colab": {
          "base_uri": "https://localhost:8080/",
          "height": 0
        },
        "id": "r3BBm-dSr8SQ",
        "outputId": "f30ba1f5-030a-4ffe-abae-ad3e365944bb"
      },
      "execution_count": 16,
      "outputs": [
        {
          "output_type": "execute_result",
          "data": {
            "text/plain": [
              "353"
            ]
          },
          "metadata": {},
          "execution_count": 16
        }
      ]
    },
    {
      "cell_type": "code",
      "source": [
        "coefs, r2_scores = [], []\n",
        "\n",
        "for i in [0, 10, 100, 1000]:\n",
        "  rr = Ridge(alpha=0.01)\n",
        "  rr.fit(x_train, y_train)\n",
        "\n",
        "  y_pred = rr.predict(x_test)\n",
        "\n",
        "  coefs.append(rr.coef_.tolist())\n",
        "  r2_scores.append(r2_score(y_test, y_pred))\n",
        "\n",
        "print(f\"coefs = {coefs}\")\n",
        "print(f\"r2_score = {r2_scores}\")"
      ],
      "metadata": {
        "colab": {
          "base_uri": "https://localhost:8080/",
          "height": 0
        },
        "id": "uVCOpSsJ1tU5",
        "outputId": "61204709-6c8f-4510-b1ca-e74c7feb1dd7"
      },
      "execution_count": 17,
      "outputs": [
        {
          "output_type": "stream",
          "name": "stdout",
          "text": [
            "coefs = [[-6.399507047742815, -198.66294530978084, 522.0565164244578, 336.3405946348215, -383.7175706909195, 152.67088165713966, -66.05324281926852, 75.60820878410597, 659.8752192034895, 55.82922058983016], [-6.399507047742815, -198.66294530978084, 522.0565164244578, 336.3405946348215, -383.7175706909195, 152.67088165713966, -66.05324281926852, 75.60820878410597, 659.8752192034895, 55.82922058983016], [-6.399507047742815, -198.66294530978084, 522.0565164244578, 336.3405946348215, -383.7175706909195, 152.67088165713966, -66.05324281926852, 75.60820878410597, 659.8752192034895, 55.82922058983016], [-6.399507047742815, -198.66294530978084, 522.0565164244578, 336.3405946348215, -383.7175706909195, 152.67088165713966, -66.05324281926852, 75.60820878410597, 659.8752192034895, 55.82922058983016]]\n",
            "r2_score = [0.4439392894728016, 0.4439392894728016, 0.4439392894728016, 0.4439392894728016]\n"
          ]
        }
      ]
    },
    {
      "cell_type": "markdown",
      "source": [
        "coefs=[]\n",
        "scores=[]\n",
        "for i in [0,10,100,1000]:\n",
        "  reg=Ridge(alpha=i)\n",
        "  reg.fit(x_train,y_train)\n",
        "\n",
        "  coefs.append(reg.coef_.tolist())\n",
        "  y_pred=reg.predict(x_test)\n",
        "  scores.append(r2_score(y_test,y_pred))"
      ],
      "metadata": {
        "id": "-19UOHlp1eMY"
      }
    },
    {
      "cell_type": "code",
      "source": [
        "coefs"
      ],
      "metadata": {
        "colab": {
          "base_uri": "https://localhost:8080/",
          "height": 0
        },
        "id": "Px299QTrt5ba",
        "outputId": "45264e90-d4aa-47bd-9378-70568a65093f"
      },
      "execution_count": 18,
      "outputs": [
        {
          "output_type": "execute_result",
          "data": {
            "text/plain": [
              "[[-6.399507047742815,\n",
              "  -198.66294530978084,\n",
              "  522.0565164244578,\n",
              "  336.3405946348215,\n",
              "  -383.7175706909195,\n",
              "  152.67088165713966,\n",
              "  -66.05324281926852,\n",
              "  75.60820878410597,\n",
              "  659.8752192034895,\n",
              "  55.82922058983016],\n",
              " [-6.399507047742815,\n",
              "  -198.66294530978084,\n",
              "  522.0565164244578,\n",
              "  336.3405946348215,\n",
              "  -383.7175706909195,\n",
              "  152.67088165713966,\n",
              "  -66.05324281926852,\n",
              "  75.60820878410597,\n",
              "  659.8752192034895,\n",
              "  55.82922058983016],\n",
              " [-6.399507047742815,\n",
              "  -198.66294530978084,\n",
              "  522.0565164244578,\n",
              "  336.3405946348215,\n",
              "  -383.7175706909195,\n",
              "  152.67088165713966,\n",
              "  -66.05324281926852,\n",
              "  75.60820878410597,\n",
              "  659.8752192034895,\n",
              "  55.82922058983016],\n",
              " [-6.399507047742815,\n",
              "  -198.66294530978084,\n",
              "  522.0565164244578,\n",
              "  336.3405946348215,\n",
              "  -383.7175706909195,\n",
              "  152.67088165713966,\n",
              "  -66.05324281926852,\n",
              "  75.60820878410597,\n",
              "  659.8752192034895,\n",
              "  55.82922058983016]]"
            ]
          },
          "metadata": {},
          "execution_count": 18
        }
      ]
    },
    {
      "cell_type": "code",
      "source": [
        "plt.figure(figsize=(14,9))\n",
        "plt.subplot(221)\n",
        "plt.bar(data.feature_names,coefs[0])\n",
        "plt.title(\"Alpha = 0, r2_score = {}\".format(round(r2_scores[0],2)))\n",
        "\n",
        "plt.subplot(222)\n",
        "plt.bar(data.feature_names,coefs[1])\n",
        "plt.title(\"Alpha = 0, r2_score = {}\".format(round(r2_scores[1],2)))\n",
        "\n",
        "plt.subplot(223)\n",
        "plt.bar(data.feature_names,coefs[2])\n",
        "plt.title(\"Alpha = 0, r2_score = {}\".format(round(r2_scores[2],2)))\n",
        "\n",
        "plt.subplot(224)\n",
        "plt.bar(data.feature_names,coefs[3])\n",
        "plt.title(\"Alpha = 0, r2_score = {}\".format(round(r2_scores[3],2)))"
      ],
      "metadata": {
        "colab": {
          "base_uri": "https://localhost:8080/",
          "height": 794
        },
        "id": "BHeVAaEqvQEo",
        "outputId": "5f1c060a-03be-440f-e758-7c9cc1eec3f5"
      },
      "execution_count": 24,
      "outputs": [
        {
          "output_type": "execute_result",
          "data": {
            "text/plain": [
              "Text(0.5, 1.0, 'Alpha = 0, r2_score = 0.44')"
            ]
          },
          "metadata": {},
          "execution_count": 24
        },
        {
          "output_type": "display_data",
          "data": {
            "text/plain": [
              "<Figure size 1400x900 with 4 Axes>"
            ],
            "image/png": "[encoded data removed]"
          },
          "metadata": {}
        }
      ]
    },
    {
      "cell_type": "markdown",
      "source": [
        "**Aim** -: In Ridge regression prove that the more higher coefficient affected more."
      ],
      "metadata": {
        "id": "_Drg0wMPzEax"
      }
    },
    {
      "cell_type": "code",
      "source": [
        "coefs=[]\n",
        "alphas=[0,0.0001,0.001,0.01,0.1,1,10,100,1000,10000]\n",
        "for i in alphas:\n",
        "  reg=Ridge(alpha=i)\n",
        "  reg.fit(x_train,y_train)\n",
        "  coefs.append(reg.coef_.tolist())"
      ],
      "metadata": {
        "id": "cBRRc4Y9zkCA"
      },
      "execution_count": 20,
      "outputs": []
    },
    {
      "cell_type": "code",
      "source": [
        "np_arr=np.array(coefs)"
      ],
      "metadata": {
        "id": "IJ7Cte1r0dzB"
      },
      "execution_count": 22,
      "outputs": []
    },
    {
      "cell_type": "code",
      "source": [
        "coef_df=pd.DataFrame(np_arr,columns=data.feature_names)\n",
        "coef_df['alpha']=alphas\n",
        "coef_df.set_index('alpha')"
      ],
      "metadata": {
        "colab": {
          "base_uri": "https://localhost:8080/",
          "height": 394
        },
        "id": "SfaOY-3s0lfP",
        "outputId": "bbbaaddc-270c-4ef0-d34b-9d5060c55e7a"
      },
      "execution_count": 23,
      "outputs": [
        {
          "output_type": "execute_result",
          "data": {
            "text/plain": [
              "                  age         sex         bmi          bp          s1  \\\n",
              "alpha                                                                   \n",
              "0.0000      -9.158653 -205.454322  516.693745  340.619999 -895.552002   \n",
              "0.0001      -9.116119 -205.329219  516.889664  340.549436 -883.423872   \n",
              "0.0010      -8.761487 -204.313404  518.380608  339.967926 -787.700510   \n",
              "0.0100      -6.399507 -198.662945  522.056516  336.340595 -383.717571   \n",
              "0.1000       6.643733 -172.237474  485.529585  314.675846  -72.940209   \n",
              "1.0000      42.242528  -57.304483  282.172125  198.059395   14.363734   \n",
              "10.0000     21.174024    1.659837   63.659826   48.492858   18.421510   \n",
              "100.0000     2.858980    0.629453    7.540605    5.849949    2.710879   \n",
              "1000.0000    0.295726    0.069290    0.769004    0.597824    0.282900   \n",
              "10000.0000   0.029674    0.006995    0.077054    0.059914    0.028412   \n",
              "\n",
              "                    s2          s3          s4          s5         s6  \n",
              "alpha                                                                  \n",
              "0.0000      561.220679  153.893110  126.731397  861.127002  52.421122  \n",
              "0.0001      551.559582  148.587063  125.353015  856.485935  52.468916  \n",
              "0.0010      475.282181  106.795253  114.629265  819.745723  52.873349  \n",
              "0.0100      152.670882  -66.053243   75.608209  659.875219  55.829221  \n",
              "0.1000      -80.588688 -174.463527   83.614710  484.365316  73.585091  \n",
              "1.0000      -22.551079 -136.929684  102.023069  260.104294  98.552692  \n",
              "10.0000      12.875466  -38.915435   38.842475   61.612302  35.505383  \n",
              "100.0000      2.142135   -4.834047    5.108223    7.448451   4.576129  \n",
              "1000.0000     0.225936   -0.495607    0.527031    0.761496   0.471029  \n",
              "10000.0000    0.022715   -0.049686    0.052870    0.076321   0.047241  "
            ],
            "text/html": [
              "\n",
              "  <div id=\"df-178247b2-2ec3-4050-964f-27aa3a22cb77\">\n",
              "    <div class=\"colab-df-container\">\n",
              "      <div>\n",
              "<style scoped>\n",
              "    .dataframe tbody tr th:only-of-type {\n",
              "        vertical-align: middle;\n",
              "    }\n",
              "\n",
              "    .dataframe tbody tr th {\n",
              "        vertical-align: top;\n",
              "    }\n",
              "\n",
              "    .dataframe thead th {\n",
              "        text-align: right;\n",
              "    }\n",
              "</style>\n",
              "<table border=\"1\" class=\"dataframe\">\n",
              "  <thead>\n",
              "    <tr style=\"text-align: right;\">\n",
              "      <th></th>\n",
              "      <th>age</th>\n",
              "      <th>sex</th>\n",
              "      <th>bmi</th>\n",
              "      <th>bp</th>\n",
              "      <th>s1</th>\n",
              "      <th>s2</th>\n",
              "      <th>s3</th>\n",
              "      <th>s4</th>\n",
              "      <th>s5</th>\n",
              "      <th>s6</th>\n",
              "    </tr>\n",
              "    <tr>\n",
              "      <th>alpha</th>\n",
              "      <th></th>\n",
              "      <th></th>\n",
              "      <th></th>\n",
              "      <th></th>\n",
              "      <th></th>\n",
              "      <th></th>\n",
              "      <th></th>\n",
              "      <th></th>\n",
              "      <th></th>\n",
              "      <th></th>\n",
              "    </tr>\n",
              "  </thead>\n",
              "  <tbody>\n",
              "    <tr>\n",
              "      <th>0.0000</th>\n",
              "      <td>-9.158653</td>\n",
              "      <td>-205.454322</td>\n",
              "      <td>516.693745</td>\n",
              "      <td>340.619999</td>\n",
              "      <td>-895.552002</td>\n",
              "      <td>561.220679</td>\n",
              "      <td>153.893110</td>\n",
              "      <td>126.731397</td>\n",
              "      <td>861.127002</td>\n",
              "      <td>52.421122</td>\n",
              "    </tr>\n",
              "    <tr>\n",
              "      <th>0.0001</th>\n",
              "      <td>-9.116119</td>\n",
              "      <td>-205.329219</td>\n",
              "      <td>516.889664</td>\n",
              "      <td>340.549436</td>\n",
              "      <td>-883.423872</td>\n",
              "      <td>551.559582</td>\n",
              "      <td>148.587063</td>\n",
              "      <td>125.353015</td>\n",
              "      <td>856.485935</td>\n",
              "      <td>52.468916</td>\n",
              "    </tr>\n",
              "    <tr>\n",
              "      <th>0.0010</th>\n",
              "      <td>-8.761487</td>\n",
              "      <td>-204.313404</td>\n",
              "      <td>518.380608</td>\n",
              "      <td>339.967926</td>\n",
              "      <td>-787.700510</td>\n",
              "      <td>475.282181</td>\n",
              "      <td>106.795253</td>\n",
              "      <td>114.629265</td>\n",
              "      <td>819.745723</td>\n",
              "      <td>52.873349</td>\n",
              "    </tr>\n",
              "    <tr>\n",
              "      <th>0.0100</th>\n",
              "      <td>-6.399507</td>\n",
              "      <td>-198.662945</td>\n",
              "      <td>522.056516</td>\n",
              "      <td>336.340595</td>\n",
              "      <td>-383.717571</td>\n",
              "      <td>152.670882</td>\n",
              "      <td>-66.053243</td>\n",
              "      <td>75.608209</td>\n",
              "      <td>659.875219</td>\n",
              "      <td>55.829221</td>\n",
              "    </tr>\n",
              "    <tr>\n",
              "      <th>0.1000</th>\n",
              "      <td>6.643733</td>\n",
              "      <td>-172.237474</td>\n",
              "      <td>485.529585</td>\n",
              "      <td>314.675846</td>\n",
              "      <td>-72.940209</td>\n",
              "      <td>-80.588688</td>\n",
              "      <td>-174.463527</td>\n",
              "      <td>83.614710</td>\n",
              "      <td>484.365316</td>\n",
              "      <td>73.585091</td>\n",
              "    </tr>\n",
              "    <tr>\n",
              "      <th>1.0000</th>\n",
              "      <td>42.242528</td>\n",
              "      <td>-57.304483</td>\n",
              "      <td>282.172125</td>\n",
              "      <td>198.059395</td>\n",
              "      <td>14.363734</td>\n",
              "      <td>-22.551079</td>\n",
              "      <td>-136.929684</td>\n",
              "      <td>102.023069</td>\n",
              "      <td>260.104294</td>\n",
              "      <td>98.552692</td>\n",
              "    </tr>\n",
              "    <tr>\n",
              "      <th>10.0000</th>\n",
              "      <td>21.174024</td>\n",
              "      <td>1.659837</td>\n",
              "      <td>63.659826</td>\n",
              "      <td>48.492858</td>\n",
              "      <td>18.421510</td>\n",
              "      <td>12.875466</td>\n",
              "      <td>-38.915435</td>\n",
              "      <td>38.842475</td>\n",
              "      <td>61.612302</td>\n",
              "      <td>35.505383</td>\n",
              "    </tr>\n",
              "    <tr>\n",
              "      <th>100.0000</th>\n",
              "      <td>2.858980</td>\n",
              "      <td>0.629453</td>\n",
              "      <td>7.540605</td>\n",
              "      <td>5.849949</td>\n",
              "      <td>2.710879</td>\n",
              "      <td>2.142135</td>\n",
              "      <td>-4.834047</td>\n",
              "      <td>5.108223</td>\n",
              "      <td>7.448451</td>\n",
              "      <td>4.576129</td>\n",
              "    </tr>\n",
              "    <tr>\n",
              "      <th>1000.0000</th>\n",
              "      <td>0.295726</td>\n",
              "      <td>0.069290</td>\n",
              "      <td>0.769004</td>\n",
              "      <td>0.597824</td>\n",
              "      <td>0.282900</td>\n",
              "      <td>0.225936</td>\n",
              "      <td>-0.495607</td>\n",
              "      <td>0.527031</td>\n",
              "      <td>0.761496</td>\n",
              "      <td>0.471029</td>\n",
              "    </tr>\n",
              "    <tr>\n",
              "      <th>10000.0000</th>\n",
              "      <td>0.029674</td>\n",
              "      <td>0.006995</td>\n",
              "      <td>0.077054</td>\n",
              "      <td>0.059914</td>\n",
              "      <td>0.028412</td>\n",
              "      <td>0.022715</td>\n",
              "      <td>-0.049686</td>\n",
              "      <td>0.052870</td>\n",
              "      <td>0.076321</td>\n",
              "      <td>0.047241</td>\n",
              "    </tr>\n",
              "  </tbody>\n",
              "</table>\n",
              "</div>\n",
              "      <button class=\"colab-df-convert\" onclick=\"convertToInteractive('df-178247b2-2ec3-4050-964f-27aa3a22cb77')\"\n",
              "              title=\"Convert this dataframe to an interactive table.\"\n",
              "              style=\"display:none;\">\n",
              "        \n",
              "  <svg xmlns=\"http://www.w3.org/2000/svg\" height=\"24px\"viewBox=\"0 0 24 24\"\n",
              "       width=\"24px\">\n",
              "    <path d=\"M0 0h24v24H0V0z\" fill=\"none\"/>\n",
              "    <path d=\"M18.56 5.44l.94 2.06.94-2.06 2.06-.94-2.06-.94-.94-2.06-.94 2.06-2.06.94zm-11 1L8.5 8.5l.94-2.06 2.06-.94-2.06-.94L8.5 2.5l-.94 2.06-2.06.94zm10 10l.94 2.06.94-2.06 2.06-.94-2.06-.94-.94-2.06-.94 2.06-2.06.94z\"/><path d=\"M17.41 7.96l-1.37-1.37c-.4-.4-.92-.59-1.43-.59-.52 0-1.04.2-1.43.59L10.3 9.45l-7.72 7.72c-.78.78-.78 2.05 0 2.83L4 21.41c.39.39.9.59 1.41.59.51 0 1.02-.2 1.41-.59l7.78-7.78 2.81-2.81c.8-.78.8-2.07 0-2.86zM5.41 20L4 18.59l7.72-7.72 1.47 1.35L5.41 20z\"/>\n",
              "  </svg>\n",
              "      </button>\n",
              "      \n",
              "  <style>\n",
              "    .colab-df-container {\n",
              "      display:flex;\n",
              "      flex-wrap:wrap;\n",
              "      gap: 12px;\n",
              "    }\n",
              "\n",
              "    .colab-df-convert {\n",
              "      background-color: #E8F0FE;\n",
              "      border: none;\n",
              "      border-radius: 50%;\n",
              "      cursor: pointer;\n",
              "      display: none;\n",
              "      fill: #1967D2;\n",
              "      height: 32px;\n",
              "      padding: 0 0 0 0;\n",
              "      width: 32px;\n",
              "    }\n",
              "\n",
              "    .colab-df-convert:hover {\n",
              "      background-color: #E2EBFA;\n",
              "      box-shadow: 0px 1px 2px rgba(60, 64, 67, 0.3), 0px 1px 3px 1px rgba(60, 64, 67, 0.15);\n",
              "      fill: #174EA6;\n",
              "    }\n",
              "\n",
              "    [theme=dark] .colab-df-convert {\n",
              "      background-color: #3B4455;\n",
              "      fill: #D2E3FC;\n",
              "    }\n",
              "\n",
              "    [theme=dark] .colab-df-convert:hover {\n",
              "      background-color: #434B5C;\n",
              "      box-shadow: 0px 1px 3px 1px rgba(0, 0, 0, 0.15);\n",
              "      filter: drop-shadow(0px 1px 2px rgba(0, 0, 0, 0.3));\n",
              "      fill: #FFFFFF;\n",
              "    }\n",
              "  </style>\n",
              "\n",
              "      <script>\n",
              "        const buttonEl =\n",
              "          document.querySelector('#df-178247b2-2ec3-4050-964f-27aa3a22cb77 button.colab-df-convert');\n",
              "        buttonEl.style.display =\n",
              "          google.colab.kernel.accessAllowed ? 'block' : 'none';\n",
              "\n",
              "        async function convertToInteractive(key) {\n",
              "          const element = document.querySelector('#df-178247b2-2ec3-4050-964f-27aa3a22cb77');\n",
              "          const dataTable =\n",
              "            await google.colab.kernel.invokeFunction('convertToInteractive',\n",
              "                                                     [key], {});\n",
              "          if (!dataTable) return;\n",
              "\n",
              "          const docLinkHtml = 'Like what you see? Visit the ' +\n",
              "            '<a target=\"_blank\" href=https://colab.research.google.com/notebooks/data_table.ipynb>data table notebook</a>'\n",
              "            + ' to learn more about interactive tables.';\n",
              "          element.innerHTML = '';\n",
              "          dataTable['output_type'] = 'display_data';\n",
              "          await google.colab.output.renderOutput(dataTable, element);\n",
              "          const docLink = document.createElement('div');\n",
              "          docLink.innerHTML = docLinkHtml;\n",
              "          element.appendChild(docLink);\n",
              "        }\n",
              "      </script>\n",
              "    </div>\n",
              "  </div>\n",
              "  "
            ]
          },
          "metadata": {},
          "execution_count": 23
        }
      ]
    }
  ]
}